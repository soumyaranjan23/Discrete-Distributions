{
  "nbformat": 4,
  "nbformat_minor": 0,
  "metadata": {
    "colab": {
      "provenance": [],
      "include_colab_link": true
    },
    "kernelspec": {
      "name": "python3",
      "display_name": "Python 3"
    }
  },
  "cells": [
    {
      "cell_type": "markdown",
      "metadata": {
        "id": "view-in-github",
        "colab_type": "text"
      },
      "source": [
        "<a href=\"https://colab.research.google.com/github/soumyaranjan23/Discrete-Distributions/blob/main/Copy_of_Assignment_Discrete_Distributions.ipynb\" target=\"_parent\"><img src=\"https://colab.research.google.com/assets/colab-badge.svg\" alt=\"Open In Colab\"/></a>"
      ]
    },
    {
      "cell_type": "markdown",
      "metadata": {
        "id": "AioAG-n5U_6S"
      },
      "source": [
        "**Complete these problems by hand in a piece of paper and then upload in a text cell.**"
      ]
    },
    {
      "cell_type": "markdown",
      "metadata": {
        "id": "Oq9OIkpjU3hr"
      },
      "source": [
        "# Problem 1"
      ]
    },
    {
      "cell_type": "markdown",
      "metadata": {
        "id": "Z7v307bnPp1s"
      },
      "source": [
        "What is the probability that at least 9 out of a group of 10 people who have been infected by a serious disease will survive, if the survival probability for the disease is 70%?"
      ]
    },
    {
      "cell_type": "code",
      "source": [
        "import math\n",
        "\n",
        "def binomial_distribution(n, k, p):\n",
        "  return math.comb(n, k) * (p**k) * ((1-p)**(n-k))\n",
        "\n",
        "n = 10\n",
        "p = 0.7\n",
        "\n",
        "prob_at_least_9_survive = sum(binomial_distribution(n, i, p) for i in range(9, n+1))\n",
        "\n",
        "print(\"The probability that at least 9 out of 10 people will survive is: \", prob_at_least_9_survive)\n"
      ],
      "metadata": {
        "id": "G-m_PiSyV4Cv",
        "outputId": "96a94431-b746-4ee7-99be-ee05dd85b7db",
        "colab": {
          "base_uri": "https://localhost:8080/"
        }
      },
      "execution_count": null,
      "outputs": [
        {
          "output_type": "stream",
          "name": "stdout",
          "text": [
            "The probability that at least 9 out of 10 people will survive is:  0.14930834589999994\n"
          ]
        }
      ]
    },
    {
      "cell_type": "markdown",
      "metadata": {
        "id": "1ECG-HvyQ01v"
      },
      "source": [
        "# Problem 2"
      ]
    },
    {
      "cell_type": "markdown",
      "metadata": {
        "id": "J1wb3oY7P6RM"
      },
      "source": [
        "If the probability of having a male or female child is equal, what is the probability that a\n",
        "woman’s fourth child is her first son?"
      ]
    },
    {
      "cell_type": "code",
      "source": [
        "def probability_first_son_on_fourth_child(p):\n",
        "  return p * (1-p)**3\n",
        "\n",
        "p = 0.5 # probability of having a male child\n",
        "\n",
        "prob = probability_first_son_on_fourth_child(p)\n",
        "\n",
        "print(\"The probability that a woman's fourth child is her first son is: \", prob)\n"
      ],
      "metadata": {
        "id": "E6Yfi_DFWOJf",
        "outputId": "7746e523-90cd-4521-de6d-c8eebf5b088c",
        "colab": {
          "base_uri": "https://localhost:8080/"
        }
      },
      "execution_count": null,
      "outputs": [
        {
          "output_type": "stream",
          "name": "stdout",
          "text": [
            "The probability that a woman's fourth child is her first son is:  0.0625\n"
          ]
        }
      ]
    },
    {
      "cell_type": "markdown",
      "metadata": {
        "id": "Y7_9sh5XQ2ip"
      },
      "source": [
        "# Problem 3"
      ]
    },
    {
      "cell_type": "markdown",
      "metadata": {
        "id": "Ua9Oo4zckZ8e"
      },
      "source": [
        "If each of the 55 million people in the UK independently has probability $1\\times10^{-8}$ of\n",
        "being killed by a falling meteorite in a given year, calculate the probability of exactly 2\n",
        "such deaths occurring in a given year."
      ]
    },
    {
      "cell_type": "code",
      "source": [
        "import math\n",
        "\n",
        "def poisson_distribution(k, lambd):\n",
        "  return (math.exp(-lambd) * (lambd**k)) / math.factorial(k)\n",
        "\n",
        "k = 2 # number of deaths\n",
        "lambd = 55000000 * 1e-8 # average number of deaths\n",
        "\n",
        "prob = poisson_distribution(k, lambd)\n",
        "\n",
        "print(\"The probability of exactly 2 deaths occurring in a given year is: \", prob)\n"
      ],
      "metadata": {
        "id": "nOD1cGdoWgTg",
        "outputId": "1cb3907f-ba53-48e1-d7de-0cf9575d82ef",
        "colab": {
          "base_uri": "https://localhost:8080/"
        }
      },
      "execution_count": null,
      "outputs": [
        {
          "output_type": "stream",
          "name": "stdout",
          "text": [
            "The probability of exactly 2 deaths occurring in a given year is:  0.08726365882004862\n"
          ]
        }
      ]
    },
    {
      "cell_type": "markdown",
      "metadata": {
        "id": "qpBaazJwVQTW"
      },
      "source": [
        "# Problem 4"
      ]
    },
    {
      "cell_type": "markdown",
      "metadata": {
        "id": "hN74icc0QFkp"
      },
      "source": [
        "The number of home insurance claims a company receives in a month is distributed as a Poisson random variable with mean 2. Calculate the probability that the company receives exactly 30 claims in a year."
      ]
    },
    {
      "cell_type": "code",
      "source": [
        "import math\n",
        "\n",
        "def poisson_distribution(k, lambd):\n",
        "  return (math.exp(-lambd) * (lambd**k)) / math.factorial(k)\n",
        "\n",
        "k = 30 # number of claims\n",
        "lambd = 2 * 12 # average number of claims\n",
        "\n",
        "prob = poisson_distribution(k, lambd)\n",
        "\n",
        "print(\"The probability that the company receives exactly 30 claims in a year is: \", prob)\n"
      ],
      "metadata": {
        "id": "nhe331gDWusH",
        "outputId": "7c5ec549-11ae-49f2-8f41-0f5af646c3ac",
        "colab": {
          "base_uri": "https://localhost:8080/"
        }
      },
      "execution_count": null,
      "outputs": [
        {
          "output_type": "stream",
          "name": "stdout",
          "text": [
            "The probability that the company receives exactly 30 claims in a year is:  0.03627518289248481\n"
          ]
        }
      ]
    },
    {
      "cell_type": "markdown",
      "metadata": {
        "id": "J3WEy97UWZn-"
      },
      "source": [
        "# Problem 5"
      ]
    },
    {
      "cell_type": "markdown",
      "metadata": {
        "id": "IddmKm-CWN77"
      },
      "source": [
        "What is a negative binomial distribution? Write its PDF, mean and variance. (Internet Search)\n",
        "\n"
      ]
    },
    {
      "cell_type": "code",
      "source": [
        "\n",
        "\n",
        "import math\n",
        "\n",
        "def negative_binomial_pmf(k, r, p):\n",
        "  return math.factorial(k-1) / (math.factorial(r-1) * math.factorial(k-r)) * (p**r) * ((1-p)**(k-r))\n",
        "\n",
        "def negative_binomial_mean(r, p):\n",
        "  return r * (1-p) / p\n",
        "\n",
        "def negative_binomial_variance(r, p):\n",
        "  return r * (1-p) / (p**2)\n",
        "\n",
        "# Example\n",
        "r = 5\n",
        "p = 0.3\n",
        "\n",
        "pmf = negative_binomial_pmf(6, r, p)\n",
        "mean = negative_binomial_mean(r, p)\n",
        "variance = negative_binomial_variance(r, p)\n",
        "\n",
        "print(\"The PMF of the negative binomial distribution for k=6, r=5, p=0.3 is: \", pmf)\n",
        "print(\"The mean of the negative binomial distribution for r=5, p=0.3 is: \", mean)\n",
        "print(\"The variance of the negative binomial distribution for r=5, p=0.3 is: \", variance)\n"
      ],
      "metadata": {
        "id": "kfGJ_ykdXLXt",
        "outputId": "7734503c-cc06-431b-fc7c-34fad4d75be7",
        "colab": {
          "base_uri": "https://localhost:8080/"
        }
      },
      "execution_count": null,
      "outputs": [
        {
          "output_type": "stream",
          "name": "stdout",
          "text": [
            "The PMF of the negative binomial distribution for k=6, r=5, p=0.3 is:  0.008504999999999997\n",
            "The mean of the negative binomial distribution for r=5, p=0.3 is:  11.666666666666668\n",
            "The variance of the negative binomial distribution for r=5, p=0.3 is:  38.88888888888889\n"
          ]
        }
      ]
    },
    {
      "cell_type": "markdown",
      "metadata": {
        "id": "srFKV49dWlXj"
      },
      "source": [
        "# Problem 6"
      ]
    },
    {
      "cell_type": "markdown",
      "metadata": {
        "id": "xY83neS2WoQn"
      },
      "source": [
        "What is a hypergeometric distribution? Write its PDF, mean and variance. (Internet Search)\n",
        "\n"
      ]
    },
    {
      "cell_type": "code",
      "source": [
        "import math\n",
        "\n",
        "def hypergeometric_pmf(k, n, K, N):\n",
        "  return math.comb(K, k) * math.comb(N-K, n-k) / math.comb(N, n)\n",
        "\n",
        "def hypergeometric_mean(n, K, N):\n",
        "  return n * K / N\n",
        "\n",
        "def hypergeometric_variance(n, K, N):\n",
        "  return n * K * (N-K) * (N-n) / (N**2 * (N-1))\n",
        "\n",
        "# Example\n",
        "n = 5\n",
        "K = 20\n",
        "N = 100\n",
        "\n",
        "pmf = hypergeometric_pmf(2, n, K, N)\n",
        "mean = hypergeometric_mean(n, K, N)\n",
        "variance = hypergeometric_variance(n, K, N)\n",
        "\n",
        "print(\"The PMF of the hypergeometric distribution for k=2, n=5, K=20, N=100 is: \", pmf)\n",
        "print(\"The mean of the hypergeometric distribution for n=5, K=20, N=100 is: \", mean)\n",
        "print(\"The variance of the hypergeometric distribution for n=5, K=20, N=100 is: \", variance)\n"
      ],
      "metadata": {
        "id": "hEnQp8Q4X86Z",
        "outputId": "e68fb187-3342-486d-a065-f4abdf8431a7",
        "colab": {
          "base_uri": "https://localhost:8080/"
        }
      },
      "execution_count": null,
      "outputs": [
        {
          "output_type": "stream",
          "name": "stdout",
          "text": [
            "The PMF of the hypergeometric distribution for k=2, n=5, K=20, N=100 is:  0.20734379349990542\n",
            "The mean of the hypergeometric distribution for n=5, K=20, N=100 is:  1.0\n",
            "The variance of the hypergeometric distribution for n=5, K=20, N=100 is:  0.7676767676767676\n"
          ]
        }
      ]
    }
  ]
}